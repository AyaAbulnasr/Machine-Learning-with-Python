{
 "cells": [
  {
   "cell_type": "markdown",
   "metadata": {},
   "source": [
    "# ML Pipeline Preparation\n",
    "Follow the instructions below to help you create your ML pipeline.\n",
    "### 1. Import libraries and load data from database.\n",
    "- Import Python libraries\n",
    "- Load dataset from database with [`read_sql_table`](https://pandas.pydata.org/pandas-docs/stable/generated/pandas.read_sql_table.html)\n",
    "- Define feature and target variables X and Y"
   ]
  },
  {
   "cell_type": "code",
   "execution_count": 43,
   "metadata": {
    "scrolled": true
   },
   "outputs": [],
   "source": [
    "#!pip3 install transformers"
   ]
  },
  {
   "cell_type": "code",
   "execution_count": 190,
   "metadata": {},
   "outputs": [],
   "source": [
    "# import libraries\n",
    "import re\n",
    "import numpy as np\n",
    "import pandas as pd\n",
    "from nltk.tokenize import word_tokenize\n",
    "from nltk.stem import WordNetLemmatizer\n",
    "from sqlalchemy import create_engine\n",
    "from sklearn.model_selection import train_test_split\n",
    "from sklearn.pipeline import Pipeline,FeatureUnion\n",
    "from sklearn.ensemble import RandomForestClassifier,AdaBoostClassifier\n",
    "from sklearn.multioutput import MultiOutputClassifier\n",
    "from sklearn.feature_extraction.text import CountVectorizer, TfidfTransformer\n",
    "from sklearn.metrics import classification_report\n",
    "from sklearn.model_selection import GridSearchCV\n",
    "#from xgboost import XGBClassifier\n",
    "#from transformers import GensimWord2VecVectorizer\n",
    "#from transformers.gensim_word2vec import GensimWord2VecVectorizer\n",
    "from sklearn.linear_model import LogisticRegression\n",
    "#from gensim.models import word2vec\n",
    "from gensim.models import Word2Vec\n",
    "from sklearn.svm import LinearSVC\n",
    "#from transformer import StartingVerbExtractor\n",
    "from sklearn.decomposition import TruncatedSVD\n",
    "from sklearn.base import BaseEstimator,TransformerMixin\n",
    "from sklearn.linear_model import LogisticRegression,LogisticRegressionCV\n",
    "from sklearn.neighbors import KNeighborsClassifier"
   ]
  },
  {
   "cell_type": "code",
   "execution_count": 191,
   "metadata": {},
   "outputs": [
    {
     "name": "stdout",
     "output_type": "stream",
     "text": [
      "[nltk_data] Downloading package punkt to /root/nltk_data...\n",
      "[nltk_data]   Package punkt is already up-to-date!\n",
      "[nltk_data] Downloading package wordnet to /root/nltk_data...\n",
      "[nltk_data]   Package wordnet is already up-to-date!\n",
      "[nltk_data] Downloading package averaged_perceptron_tagger to\n",
      "[nltk_data]     /root/nltk_data...\n",
      "[nltk_data]   Package averaged_perceptron_tagger is already up-to-\n",
      "[nltk_data]       date!\n"
     ]
    },
    {
     "data": {
      "text/plain": [
       "True"
      ]
     },
     "execution_count": 191,
     "metadata": {},
     "output_type": "execute_result"
    }
   ],
   "source": [
    "import nltk\n",
    "nltk.download(['punkt', 'wordnet', 'averaged_perceptron_tagger'])"
   ]
  },
  {
   "cell_type": "code",
   "execution_count": 192,
   "metadata": {},
   "outputs": [],
   "source": [
    "# load data from database\n",
    "def load_data(database_filepath):\n",
    "    #New.db is database_filepath, New is table name\n",
    "    engine = create_engine('sqlite:///' + database_filepath)\n",
    "    #table_name =  \n",
    "    df = pd.read_sql_table('New',engine)\n",
    "    X = df.message.values\n",
    "    y = df.iloc[:, 4:]\n",
    "    print(X.shape,'\\n',y.columns,'\\n',y.shape)\n",
    "    return X, y\n"
   ]
  },
  {
   "cell_type": "code",
   "execution_count": 213,
   "metadata": {},
   "outputs": [],
   "source": [
    "#df.message"
   ]
  },
  {
   "cell_type": "code",
   "execution_count": 156,
   "metadata": {
    "scrolled": true
   },
   "outputs": [
    {
     "name": "stdout",
     "output_type": "stream",
     "text": [
      "(26215,) \n",
      " Index(['related', 'request', 'offer', 'aid_related', 'medical_help',\n",
      "       'medical_products', 'search_and_rescue', 'security', 'military',\n",
      "       'child_alone', 'water', 'food', 'shelter', 'clothing', 'money',\n",
      "       'missing_people', 'refugees', 'death', 'other_aid',\n",
      "       'infrastructure_related', 'transport', 'buildings', 'electricity',\n",
      "       'tools', 'hospitals', 'shops', 'aid_centers', 'other_infrastructure',\n",
      "       'weather_related', 'floods', 'storm', 'fire', 'earthquake', 'cold',\n",
      "       'other_weather', 'direct_report'],\n",
      "      dtype='object') \n",
      " (26215, 36)\n"
     ]
    },
    {
     "data": {
      "text/plain": [
       "(array(['Weather update - a cold front from Cuba that could pass over Haiti',\n",
       "        'Is the Hurricane over or is it not over',\n",
       "        'Looking for someone but no name', ...,\n",
       "        \"Proshika, operating in Cox's Bazar municipality and 5 other unions, Ramu and Chokoria, assessment, 5 kg rice, 1,5 kg lentils to 700 families.\",\n",
       "        'Some 2,000 women protesting against the conduct of the elections were teargassed as they tried to converge on the local electoral commission offices in the southern oil city of Port Harcourt.',\n",
       "        'A radical shift in thinking came about as a result of this meeting, recognizing that HIV/AIDS is at the core of the humanitarian crisis and identifying the crisis itself as a function of the HIV/AIDS pandemic.'], dtype=object),\n",
       "        related  request  offer  aid_related  medical_help  medical_products  \\\n",
       " 0            1        0      0            0             0                 0   \n",
       " 1            1        0      0            1             0                 0   \n",
       " 2            1        0      0            0             0                 0   \n",
       " 3            1        1      0            1             0                 1   \n",
       " 4            1        0      0            0             0                 0   \n",
       " 5            0        0      0            0             0                 0   \n",
       " 6            1        0      0            0             0                 0   \n",
       " 7            1        1      0            1             0                 0   \n",
       " 8            0        0      0            0             0                 0   \n",
       " 9            1        1      0            1             1                 1   \n",
       " 10           1        1      0            1             1                 1   \n",
       " 11           0        0      0            0             0                 0   \n",
       " 12           1        1      0            1             0                 0   \n",
       " 13           1        1      0            1             0                 0   \n",
       " 14           1        0      0            0             0                 0   \n",
       " 15           1        1      0            1             0                 1   \n",
       " 16           1        1      0            1             1                 0   \n",
       " 17           0        0      0            0             0                 0   \n",
       " 18           0        0      0            0             0                 0   \n",
       " 19           1        0      0            0             0                 0   \n",
       " 20           1        0      0            0             0                 0   \n",
       " 21           1        1      0            1             0                 0   \n",
       " 22           1        1      0            1             0                 0   \n",
       " 23           1        1      0            1             0                 0   \n",
       " 24           1        0      0            0             0                 0   \n",
       " 25           0        0      0            0             0                 0   \n",
       " 26           1        1      0            1             1                 1   \n",
       " 27           1        1      0            1             1                 0   \n",
       " 28           1        1      0            1             0                 0   \n",
       " 29           1        1      0            1             0                 0   \n",
       " ...        ...      ...    ...          ...           ...               ...   \n",
       " 26185        1        0      0            1             1                 0   \n",
       " 26186        1        0      0            1             0                 1   \n",
       " 26187        1        0      0            1             0                 0   \n",
       " 26188        0        0      0            0             0                 0   \n",
       " 26189        0        0      0            0             0                 0   \n",
       " 26190        1        0      0            1             0                 0   \n",
       " 26191        1        0      0            0             0                 0   \n",
       " 26192        1        0      0            1             0                 0   \n",
       " 26193        1        0      0            0             0                 0   \n",
       " 26194        0        0      0            0             0                 0   \n",
       " 26195        1        0      0            0             0                 0   \n",
       " 26196        1        0      0            1             0                 0   \n",
       " 26197        1        0      0            1             0                 1   \n",
       " 26198        1        0      0            1             0                 0   \n",
       " 26199        0        0      0            0             0                 0   \n",
       " 26200        1        0      0            0             0                 0   \n",
       " 26201        1        0      0            0             0                 0   \n",
       " 26202        1        0      0            1             0                 0   \n",
       " 26203        0        0      0            0             0                 0   \n",
       " 26204        1        0      0            1             1                 1   \n",
       " 26205        1        0      0            1             0                 0   \n",
       " 26206        1        1      0            0             0                 0   \n",
       " 26207        1        0      0            0             0                 0   \n",
       " 26208        0        0      0            0             0                 0   \n",
       " 26209        1        0      0            0             0                 0   \n",
       " 26210        0        0      0            0             0                 0   \n",
       " 26211        0        0      0            0             0                 0   \n",
       " 26212        1        0      0            0             0                 0   \n",
       " 26213        1        0      0            1             0                 0   \n",
       " 26214        1        0      0            0             0                 0   \n",
       " \n",
       "        search_and_rescue  security  military  child_alone      ...        \\\n",
       " 0                      0         0         0            0      ...         \n",
       " 1                      0         0         0            0      ...         \n",
       " 2                      0         0         0            0      ...         \n",
       " 3                      0         0         0            0      ...         \n",
       " 4                      0         0         0            0      ...         \n",
       " 5                      0         0         0            0      ...         \n",
       " 6                      0         0         0            0      ...         \n",
       " 7                      0         0         0            0      ...         \n",
       " 8                      0         0         0            0      ...         \n",
       " 9                      0         0         0            0      ...         \n",
       " 10                     0         0         0            0      ...         \n",
       " 11                     0         0         0            0      ...         \n",
       " 12                     0         0         0            0      ...         \n",
       " 13                     0         0         0            0      ...         \n",
       " 14                     0         0         0            0      ...         \n",
       " 15                     0         0         0            0      ...         \n",
       " 16                     0         0         0            0      ...         \n",
       " 17                     0         0         0            0      ...         \n",
       " 18                     0         0         0            0      ...         \n",
       " 19                     0         0         0            0      ...         \n",
       " 20                     0         0         0            0      ...         \n",
       " 21                     0         0         0            0      ...         \n",
       " 22                     0         0         0            0      ...         \n",
       " 23                     0         0         0            0      ...         \n",
       " 24                     0         0         0            0      ...         \n",
       " 25                     0         0         0            0      ...         \n",
       " 26                     0         0         0            0      ...         \n",
       " 27                     0         0         0            0      ...         \n",
       " 28                     0         0         0            0      ...         \n",
       " 29                     0         0         0            0      ...         \n",
       " ...                  ...       ...       ...          ...      ...         \n",
       " 26185                  0         0         0            0      ...         \n",
       " 26186                  0         0         0            0      ...         \n",
       " 26187                  0         0         0            0      ...         \n",
       " 26188                  0         0         0            0      ...         \n",
       " 26189                  0         0         0            0      ...         \n",
       " 26190                  0         0         1            0      ...         \n",
       " 26191                  0         0         0            0      ...         \n",
       " 26192                  0         0         1            0      ...         \n",
       " 26193                  0         0         0            0      ...         \n",
       " 26194                  0         0         0            0      ...         \n",
       " 26195                  0         0         0            0      ...         \n",
       " 26196                  1         0         0            0      ...         \n",
       " 26197                  0         0         0            0      ...         \n",
       " 26198                  0         0         0            0      ...         \n",
       " 26199                  0         0         0            0      ...         \n",
       " 26200                  0         0         0            0      ...         \n",
       " 26201                  0         0         0            0      ...         \n",
       " 26202                  0         0         0            0      ...         \n",
       " 26203                  0         0         0            0      ...         \n",
       " 26204                  0         0         0            0      ...         \n",
       " 26205                  0         0         0            0      ...         \n",
       " 26206                  0         0         0            0      ...         \n",
       " 26207                  0         0         0            0      ...         \n",
       " 26208                  0         0         0            0      ...         \n",
       " 26209                  0         0         0            0      ...         \n",
       " 26210                  0         0         0            0      ...         \n",
       " 26211                  0         0         0            0      ...         \n",
       " 26212                  0         0         0            0      ...         \n",
       " 26213                  0         0         1            0      ...         \n",
       " 26214                  0         0         0            0      ...         \n",
       " \n",
       "        aid_centers  other_infrastructure  weather_related  floods  storm  \\\n",
       " 0                0                     0                0       0      0   \n",
       " 1                0                     0                1       0      1   \n",
       " 2                0                     0                0       0      0   \n",
       " 3                0                     0                0       0      0   \n",
       " 4                0                     0                0       0      0   \n",
       " 5                0                     0                0       0      0   \n",
       " 6                0                     0                1       0      1   \n",
       " 7                0                     0                0       0      0   \n",
       " 8                0                     0                0       0      0   \n",
       " 9                0                     0                0       0      0   \n",
       " 10               0                     1                1       1      0   \n",
       " 11               0                     0                0       0      0   \n",
       " 12               0                     0                0       0      0   \n",
       " 13               0                     0                0       0      0   \n",
       " 14               0                     0                0       0      0   \n",
       " 15               0                     0                0       0      0   \n",
       " 16               0                     0                0       0      0   \n",
       " 17               0                     0                0       0      0   \n",
       " 18               0                     0                0       0      0   \n",
       " 19               0                     0                1       0      0   \n",
       " 20               0                     0                0       0      0   \n",
       " 21               0                     0                0       0      0   \n",
       " 22               0                     0                0       0      0   \n",
       " 23               0                     0                0       0      0   \n",
       " 24               0                     0                0       0      0   \n",
       " 25               0                     0                0       0      0   \n",
       " 26               0                     0                0       0      0   \n",
       " 27               0                     0                1       1      0   \n",
       " 28               0                     0                0       0      0   \n",
       " 29               0                     0                0       0      0   \n",
       " ...            ...                   ...              ...     ...    ...   \n",
       " 26185            0                     0                0       0      0   \n",
       " 26186            0                     0                0       0      0   \n",
       " 26187            0                     0                0       0      0   \n",
       " 26188            0                     0                0       0      0   \n",
       " 26189            0                     0                0       0      0   \n",
       " 26190            0                     0                0       0      0   \n",
       " 26191            0                     0                0       0      0   \n",
       " 26192            0                     0                0       0      0   \n",
       " 26193            0                     0                1       1      0   \n",
       " 26194            0                     0                0       0      0   \n",
       " 26195            0                     0                0       0      0   \n",
       " 26196            0                     0                0       0      0   \n",
       " 26197            0                     0                0       0      0   \n",
       " 26198            0                     0                0       0      0   \n",
       " 26199            0                     0                0       0      0   \n",
       " 26200            0                     0                1       1      0   \n",
       " 26201            0                     0                0       0      0   \n",
       " 26202            0                     0                1       1      0   \n",
       " 26203            0                     0                0       0      0   \n",
       " 26204            0                     0                0       0      0   \n",
       " 26205            0                     0                0       0      0   \n",
       " 26206            0                     0                0       0      0   \n",
       " 26207            0                     0                0       0      0   \n",
       " 26208            0                     0                0       0      0   \n",
       " 26209            0                     0                0       0      0   \n",
       " 26210            0                     0                0       0      0   \n",
       " 26211            0                     0                0       0      0   \n",
       " 26212            0                     0                0       0      0   \n",
       " 26213            0                     0                0       0      0   \n",
       " 26214            0                     0                0       0      0   \n",
       " \n",
       "        fire  earthquake  cold  other_weather  direct_report  \n",
       " 0         0           0     0              0              0  \n",
       " 1         0           0     0              0              0  \n",
       " 2         0           0     0              0              0  \n",
       " 3         0           0     0              0              0  \n",
       " 4         0           0     0              0              0  \n",
       " 5         0           0     0              0              0  \n",
       " 6         0           0     0              0              0  \n",
       " 7         0           0     0              0              1  \n",
       " 8         0           0     0              0              0  \n",
       " 9         0           0     0              0              1  \n",
       " 10        0           0     0              0              1  \n",
       " 11        0           0     0              0              0  \n",
       " 12        0           0     0              0              1  \n",
       " 13        0           0     0              0              1  \n",
       " 14        0           0     0              0              0  \n",
       " 15        0           0     0              0              1  \n",
       " 16        0           0     0              0              1  \n",
       " 17        0           0     0              0              0  \n",
       " 18        0           0     0              0              0  \n",
       " 19        0           1     0              0              0  \n",
       " 20        0           0     0              0              0  \n",
       " 21        0           0     0              0              1  \n",
       " 22        0           0     0              0              1  \n",
       " 23        0           0     0              0              0  \n",
       " 24        0           0     0              0              0  \n",
       " 25        0           0     0              0              0  \n",
       " 26        0           0     0              0              1  \n",
       " 27        0           0     0              0              1  \n",
       " 28        0           0     0              0              1  \n",
       " 29        0           0     0              0              1  \n",
       " ...     ...         ...   ...            ...            ...  \n",
       " 26185     0           0     0              0              0  \n",
       " 26186     0           0     0              0              0  \n",
       " 26187     0           0     0              0              0  \n",
       " 26188     0           0     0              0              0  \n",
       " 26189     0           0     0              0              0  \n",
       " 26190     0           0     0              0              0  \n",
       " 26191     0           0     0              0              0  \n",
       " 26192     0           0     0              0              0  \n",
       " 26193     1           0     0              1              0  \n",
       " 26194     0           0     0              0              0  \n",
       " 26195     0           0     0              0              0  \n",
       " 26196     0           0     0              0              1  \n",
       " 26197     0           0     0              0              1  \n",
       " 26198     0           0     0              0              0  \n",
       " 26199     0           0     0              0              0  \n",
       " 26200     0           0     0              0              0  \n",
       " 26201     0           0     0              0              0  \n",
       " 26202     0           0     0              0              0  \n",
       " 26203     0           0     0              0              0  \n",
       " 26204     0           0     0              0              0  \n",
       " 26205     0           0     0              0              0  \n",
       " 26206     0           0     0              0              1  \n",
       " 26207     0           0     0              0              0  \n",
       " 26208     0           0     0              0              0  \n",
       " 26209     0           0     0              0              0  \n",
       " 26210     0           0     0              0              0  \n",
       " 26211     0           0     0              0              0  \n",
       " 26212     0           0     0              0              0  \n",
       " 26213     0           0     0              0              0  \n",
       " 26214     0           0     0              0              0  \n",
       " \n",
       " [26215 rows x 36 columns])"
      ]
     },
     "execution_count": 156,
     "metadata": {},
     "output_type": "execute_result"
    }
   ],
   "source": [
    "load_data('New.db')"
   ]
  },
  {
   "cell_type": "code",
   "execution_count": 48,
   "metadata": {},
   "outputs": [
    {
     "name": "stdout",
     "output_type": "stream",
     "text": [
      "related \n",
      " 1    20093\n",
      "0     6122\n",
      "Name: related, dtype: int64 \n",
      "\n",
      "request \n",
      " 0    21741\n",
      "1     4474\n",
      "Name: request, dtype: int64 \n",
      "\n",
      "offer \n",
      " 0    26097\n",
      "1      118\n",
      "Name: offer, dtype: int64 \n",
      "\n",
      "aid_related \n",
      " 0    15355\n",
      "1    10860\n",
      "Name: aid_related, dtype: int64 \n",
      "\n",
      "medical_help \n",
      " 0    24131\n",
      "1     2084\n",
      "Name: medical_help, dtype: int64 \n",
      "\n",
      "medical_products \n",
      " 0    24902\n",
      "1     1313\n",
      "Name: medical_products, dtype: int64 \n",
      "\n",
      "search_and_rescue \n",
      " 0    25491\n",
      "1      724\n",
      "Name: search_and_rescue, dtype: int64 \n",
      "\n",
      "security \n",
      " 0    25744\n",
      "1      471\n",
      "Name: security, dtype: int64 \n",
      "\n",
      "military \n",
      " 0    25355\n",
      "1      860\n",
      "Name: military, dtype: int64 \n",
      "\n",
      "child_alone \n",
      " 0    26215\n",
      "Name: child_alone, dtype: int64 \n",
      "\n",
      "water \n",
      " 0    24543\n",
      "1     1672\n",
      "Name: water, dtype: int64 \n",
      "\n",
      "food \n",
      " 0    23292\n",
      "1     2923\n",
      "Name: food, dtype: int64 \n",
      "\n",
      "shelter \n",
      " 0    23901\n",
      "1     2314\n",
      "Name: shelter, dtype: int64 \n",
      "\n",
      "clothing \n",
      " 0    25810\n",
      "1      405\n",
      "Name: clothing, dtype: int64 \n",
      "\n",
      "money \n",
      " 0    25611\n",
      "1      604\n",
      "Name: money, dtype: int64 \n",
      "\n",
      "missing_people \n",
      " 0    25917\n",
      "1      298\n",
      "Name: missing_people, dtype: int64 \n",
      "\n",
      "refugees \n",
      " 0    25340\n",
      "1      875\n",
      "Name: refugees, dtype: int64 \n",
      "\n",
      "death \n",
      " 0    25021\n",
      "1     1194\n",
      "Name: death, dtype: int64 \n",
      "\n",
      "other_aid \n",
      " 0    22769\n",
      "1     3446\n",
      "Name: other_aid, dtype: int64 \n",
      "\n",
      "infrastructure_related \n",
      " 0    24510\n",
      "1     1705\n",
      "Name: infrastructure_related, dtype: int64 \n",
      "\n",
      "transport \n",
      " 0    25014\n",
      "1     1201\n",
      "Name: transport, dtype: int64 \n",
      "\n",
      "buildings \n",
      " 0    24882\n",
      "1     1333\n",
      "Name: buildings, dtype: int64 \n",
      "\n",
      "electricity \n",
      " 0    25683\n",
      "1      532\n",
      "Name: electricity, dtype: int64 \n",
      "\n",
      "tools \n",
      " 0    26056\n",
      "1      159\n",
      "Name: tools, dtype: int64 \n",
      "\n",
      "hospitals \n",
      " 0    25932\n",
      "1      283\n",
      "Name: hospitals, dtype: int64 \n",
      "\n",
      "shops \n",
      " 0    26095\n",
      "1      120\n",
      "Name: shops, dtype: int64 \n",
      "\n",
      "aid_centers \n",
      " 0    25906\n",
      "1      309\n",
      "Name: aid_centers, dtype: int64 \n",
      "\n",
      "other_infrastructure \n",
      " 0    25064\n",
      "1     1151\n",
      "Name: other_infrastructure, dtype: int64 \n",
      "\n",
      "weather_related \n",
      " 0    18918\n",
      "1     7297\n",
      "Name: weather_related, dtype: int64 \n",
      "\n",
      "floods \n",
      " 0    24060\n",
      "1     2155\n",
      "Name: floods, dtype: int64 \n",
      "\n",
      "storm \n",
      " 0    23772\n",
      "1     2443\n",
      "Name: storm, dtype: int64 \n",
      "\n",
      "fire \n",
      " 0    25933\n",
      "1      282\n",
      "Name: fire, dtype: int64 \n",
      "\n",
      "earthquake \n",
      " 0    23760\n",
      "1     2455\n",
      "Name: earthquake, dtype: int64 \n",
      "\n",
      "cold \n",
      " 0    25685\n",
      "1      530\n",
      "Name: cold, dtype: int64 \n",
      "\n",
      "other_weather \n",
      " 0    24839\n",
      "1     1376\n",
      "Name: other_weather, dtype: int64 \n",
      "\n",
      "direct_report \n",
      " 0    21140\n",
      "1     5075\n",
      "Name: direct_report, dtype: int64 \n",
      "\n"
     ]
    }
   ],
   "source": [
    "for col in df.columns[4:]:\n",
    "    print(col,'\\n',df[col].value_counts(),'\\n')\n"
   ]
  },
  {
   "cell_type": "code",
   "execution_count": 49,
   "metadata": {},
   "outputs": [
    {
     "data": {
      "text/plain": [
       "Index(['id', 'message', 'original', 'genre', 'related', 'request', 'offer',\n",
       "       'aid_related', 'medical_help', 'medical_products', 'search_and_rescue',\n",
       "       'security', 'military', 'child_alone', 'water', 'food', 'shelter',\n",
       "       'clothing', 'money', 'missing_people', 'refugees', 'death', 'other_aid',\n",
       "       'infrastructure_related', 'transport', 'buildings', 'electricity',\n",
       "       'tools', 'hospitals', 'shops', 'aid_centers', 'other_infrastructure',\n",
       "       'weather_related', 'floods', 'storm', 'fire', 'earthquake', 'cold',\n",
       "       'other_weather', 'direct_report'],\n",
       "      dtype='object')"
      ]
     },
     "execution_count": 49,
     "metadata": {},
     "output_type": "execute_result"
    }
   ],
   "source": [
    " df.columns"
   ]
  },
  {
   "cell_type": "markdown",
   "metadata": {},
   "source": [
    "### 2. Write a tokenization function to process your text data"
   ]
  },
  {
   "cell_type": "code",
   "execution_count": 193,
   "metadata": {},
   "outputs": [],
   "source": [
    "def tokenize(message):\n",
    "    tokens = word_tokenize(message)\n",
    "    lemmatizer = WordNetLemmatizer()\n",
    "    clean_tokens = []\n",
    "    for tok in tokens:\n",
    "        \n",
    "        # lemmatize, normalize case, and remove leading/trailing white space\n",
    "        clean_tok = lemmatizer.lemmatize(tok).lower().strip()\n",
    "        clean_tokens.append(clean_tok)\n",
    "    return clean_tokens"
   ]
  },
  {
   "cell_type": "code",
   "execution_count": 194,
   "metadata": {},
   "outputs": [],
   "source": [
    "# Build a custom transformer which will extract the starting verb of a sentence\n",
    "class StartingVerbExtractor(BaseEstimator, TransformerMixin):\n",
    "    \"\"\"\n",
    "    Starting Verb Extractor class\n",
    "    \n",
    "    This class extract the starting verb of a sentence,\n",
    "    creating a new feature for the ML classifier\n",
    "    \"\"\"\n",
    "\n",
    "    def starting_verb(self, text):\n",
    "        sentence_list = nltk.sent_tokenize(text)\n",
    "        for sentence in sentence_list:\n",
    "            pos_tags = nltk.pos_tag(tokenize(sentence))\n",
    "            first_word, first_tag = pos_tags[0]\n",
    "            if first_tag in ['VB', 'VBP'] or first_word == 'RT':\n",
    "                return True\n",
    "        return False\n",
    "\n",
    "    # Given it is a tranformer we can return the self \n",
    "    def fit(self, X, y=None):\n",
    "        return self\n",
    "\n",
    "    def transform(self, X):\n",
    "        X_tagged = pd.Series(X).apply(self.starting_verb)\n",
    "        return pd.DataFrame(X_tagged)"
   ]
  },
  {
   "cell_type": "markdown",
   "metadata": {},
   "source": [
    "### 3. Build a machine learning pipeline\n",
    "This machine pipeline should take in the `message` column as input and output classification results on the other 36 categories in the dataset. You may find the [MultiOutputClassifier](http://scikit-learn.org/stable/modules/generated/sklearn.multioutput.MultiOutputClassifier.html) helpful for predicting multiple target variables."
   ]
  },
  {
   "cell_type": "code",
   "execution_count": 195,
   "metadata": {},
   "outputs": [],
   "source": [
    "def build_model():\n",
    "    pipeline = Pipeline([\n",
    "        ('vect',CountVectorizer(tokenizer=tokenize)),\n",
    "        ('tfidf', TfidfTransformer()),\n",
    "        ('clf', MultiOutputClassifier(RandomForestClassifier()))\n",
    "    ])\n",
    "    return pipeline\n"
   ]
  },
  {
   "cell_type": "markdown",
   "metadata": {},
   "source": [
    "### 4. Train pipeline\n",
    "- Split data into train and test sets\n",
    "- Train pipeline"
   ]
  },
  {
   "cell_type": "code",
   "execution_count": 196,
   "metadata": {},
   "outputs": [],
   "source": [
    "X_train,X_test,y_train,y_test = train_test_split(X, y)"
   ]
  },
  {
   "cell_type": "code",
   "execution_count": 197,
   "metadata": {},
   "outputs": [],
   "source": [
    "model = build_model()"
   ]
  },
  {
   "cell_type": "code",
   "execution_count": 198,
   "metadata": {},
   "outputs": [
    {
     "data": {
      "text/plain": [
       "Pipeline(memory=None,\n",
       "     steps=[('vect', CountVectorizer(analyzer='word', binary=False, decode_error='strict',\n",
       "        dtype=<class 'numpy.int64'>, encoding='utf-8', input='content',\n",
       "        lowercase=True, max_df=1.0, max_features=None, min_df=1,\n",
       "        ngram_range=(1, 1), preprocessor=None, stop_words=None,\n",
       "        strip...oob_score=False, random_state=None, verbose=0,\n",
       "            warm_start=False),\n",
       "           n_jobs=1))])"
      ]
     },
     "execution_count": 198,
     "metadata": {},
     "output_type": "execute_result"
    }
   ],
   "source": [
    "model.fit(X_train,y_train)"
   ]
  },
  {
   "cell_type": "markdown",
   "metadata": {},
   "source": [
    "### 5. Test your model\n",
    "Report the f1 score, precision and recall for each output category of the dataset. You can do this by iterating through the columns and calling sklearn's `classification_report` on each."
   ]
  },
  {
   "cell_type": "code",
   "execution_count": 199,
   "metadata": {},
   "outputs": [],
   "source": [
    "def evaluate_model(model, X_test, y_test, category_names):\n",
    "    y_pred = model.predict(X_test)\n",
    "    y_pred = pd.DataFrame(y_pred)\n",
    "    category_names = y.columns\n",
    "    category_names\n",
    "    print(classification_report(y_test, y_pred, target_names=category_names))"
   ]
  },
  {
   "cell_type": "code",
   "execution_count": 200,
   "metadata": {},
   "outputs": [
    {
     "name": "stdout",
     "output_type": "stream",
     "text": [
      "Evaluating model...\n",
      "                        precision    recall  f1-score   support\n",
      "\n",
      "               related       0.82      0.92      0.87      5048\n",
      "               request       0.82      0.39      0.53      1114\n",
      "                 offer       0.00      0.00      0.00        18\n",
      "           aid_related       0.76      0.50      0.60      2722\n",
      "          medical_help       0.69      0.07      0.13       514\n",
      "      medical_products       0.62      0.05      0.09       315\n",
      "     search_and_rescue       0.73      0.06      0.11       178\n",
      "              security       0.00      0.00      0.00       109\n",
      "              military       0.56      0.03      0.05       194\n",
      "           child_alone       0.00      0.00      0.00         0\n",
      "                 water       0.85      0.19      0.30       427\n",
      "                  food       0.85      0.31      0.45       763\n",
      "               shelter       0.82      0.18      0.30       604\n",
      "              clothing       0.75      0.08      0.15       112\n",
      "                 money       1.00      0.04      0.08       158\n",
      "        missing_people       0.00      0.00      0.00        64\n",
      "              refugees       0.68      0.11      0.18       216\n",
      "                 death       0.79      0.17      0.28       267\n",
      "             other_aid       0.54      0.04      0.07       874\n",
      "infrastructure_related       0.00      0.00      0.00       421\n",
      "             transport       0.76      0.09      0.17       299\n",
      "             buildings       0.81      0.06      0.12       326\n",
      "           electricity       0.86      0.04      0.08       143\n",
      "                 tools       0.00      0.00      0.00        38\n",
      "             hospitals       0.00      0.00      0.00        69\n",
      "                 shops       0.00      0.00      0.00        34\n",
      "           aid_centers       0.00      0.00      0.00        76\n",
      "  other_infrastructure       0.25      0.00      0.01       281\n",
      "       weather_related       0.84      0.51      0.63      1870\n",
      "                floods       0.88      0.23      0.36       527\n",
      "                 storm       0.79      0.33      0.47       636\n",
      "                  fire       0.67      0.03      0.05        74\n",
      "            earthquake       0.88      0.54      0.67       639\n",
      "                  cold       0.83      0.13      0.22       118\n",
      "         other_weather       0.62      0.05      0.10       344\n",
      "         direct_report       0.79      0.29      0.42      1260\n",
      "\n",
      "           avg / total       0.75      0.44      0.50     20852\n",
      "\n"
     ]
    },
    {
     "name": "stderr",
     "output_type": "stream",
     "text": [
      "/opt/conda/lib/python3.6/site-packages/sklearn/metrics/classification.py:1135: UndefinedMetricWarning: Precision and F-score are ill-defined and being set to 0.0 in labels with no predicted samples.\n",
      "  'precision', 'predicted', average, warn_for)\n",
      "/opt/conda/lib/python3.6/site-packages/sklearn/metrics/classification.py:1137: UndefinedMetricWarning: Recall and F-score are ill-defined and being set to 0.0 in labels with no true samples.\n",
      "  'recall', 'true', average, warn_for)\n"
     ]
    }
   ],
   "source": [
    "print('Evaluating model...')\n",
    "evaluate_model(model, X_test, y_test, category_names)"
   ]
  },
  {
   "cell_type": "code",
   "execution_count": 54,
   "metadata": {},
   "outputs": [],
   "source": [
    "#from sklearn.utils.multiclass import type_of_target\n",
    "#type_of_target(y_test)\n",
    "#type_of_target(y_pred)\n",
    "## due to Unknown label type"
   ]
  },
  {
   "cell_type": "code",
   "execution_count": 165,
   "metadata": {
    "scrolled": true
   },
   "outputs": [
    {
     "name": "stdout",
     "output_type": "stream",
     "text": [
      "<class 'pandas.core.frame.DataFrame'> <class 'pandas.core.frame.DataFrame'> <class 'numpy.ndarray'>\n"
     ]
    }
   ],
   "source": [
    "print(type(y_pred),type(y_test),type(X_test))"
   ]
  },
  {
   "cell_type": "code",
   "execution_count": 214,
   "metadata": {},
   "outputs": [],
   "source": [
    "#category_names = y.columns\n",
    "#category_names"
   ]
  },
  {
   "cell_type": "code",
   "execution_count": 57,
   "metadata": {
    "collapsed": true
   },
   "outputs": [
    {
     "name": "stdout",
     "output_type": "stream",
     "text": [
      "                        precision    recall  f1-score   support\n",
      "\n",
      "               related       0.83      0.93      0.88      5042\n",
      "               request       0.84      0.37      0.52      1095\n",
      "                 offer       0.00      0.00      0.00        35\n",
      "           aid_related       0.75      0.51      0.61      2670\n",
      "          medical_help       0.68      0.06      0.11       516\n",
      "      medical_products       0.63      0.08      0.14       298\n",
      "     search_and_rescue       0.67      0.03      0.06       185\n",
      "              security       0.00      0.00      0.00       104\n",
      "              military       0.68      0.07      0.13       216\n",
      "           child_alone       0.00      0.00      0.00         0\n",
      "                 water       0.85      0.26      0.39       387\n",
      "                  food       0.81      0.36      0.50       692\n",
      "               shelter       0.80      0.19      0.30       552\n",
      "              clothing       0.70      0.13      0.22       105\n",
      "                 money       0.67      0.03      0.05       148\n",
      "        missing_people       1.00      0.01      0.03        72\n",
      "              refugees       0.55      0.03      0.05       235\n",
      "                 death       0.78      0.09      0.15       291\n",
      "             other_aid       0.64      0.04      0.08       845\n",
      "infrastructure_related       0.25      0.00      0.00       437\n",
      "             transport       0.73      0.08      0.14       299\n",
      "             buildings       0.72      0.10      0.17       351\n",
      "           electricity       0.62      0.04      0.08       119\n",
      "                 tools       0.00      0.00      0.00        37\n",
      "             hospitals       0.00      0.00      0.00        69\n",
      "                 shops       0.00      0.00      0.00        33\n",
      "           aid_centers       0.00      0.00      0.00        77\n",
      "  other_infrastructure       0.50      0.00      0.01       297\n",
      "       weather_related       0.84      0.54      0.66      1834\n",
      "                floods       0.91      0.21      0.34       551\n",
      "                 storm       0.72      0.27      0.39       629\n",
      "                  fire       0.00      0.00      0.00        65\n",
      "            earthquake       0.91      0.66      0.77       625\n",
      "                  cold       0.92      0.09      0.16       135\n",
      "         other_weather       0.47      0.02      0.04       363\n",
      "         direct_report       0.78      0.36      0.49      1238\n",
      "\n",
      "           avg / total       0.75      0.45      0.51     20647\n",
      "\n"
     ]
    },
    {
     "name": "stderr",
     "output_type": "stream",
     "text": [
      "/opt/conda/lib/python3.6/site-packages/sklearn/metrics/classification.py:1135: UndefinedMetricWarning: Precision and F-score are ill-defined and being set to 0.0 in labels with no predicted samples.\n",
      "  'precision', 'predicted', average, warn_for)\n",
      "/opt/conda/lib/python3.6/site-packages/sklearn/metrics/classification.py:1137: UndefinedMetricWarning: Recall and F-score are ill-defined and being set to 0.0 in labels with no true samples.\n",
      "  'recall', 'true', average, warn_for)\n"
     ]
    }
   ],
   "source": [
    "#print(classification_report(y_test,y_pred,target_names=category_names)) ## might we have 2?! replace with 1 .. yes \"lazm tb2a 0 or 1 bs\""
   ]
  },
  {
   "cell_type": "code",
   "execution_count": 58,
   "metadata": {
    "scrolled": true
   },
   "outputs": [
    {
     "data": {
      "text/plain": [
       "'\\ncat_names = list(df.columns[4:])\\n\\nfor i in range(len(cat_names)):\\n    print(\"Category:\", cat_names[i],\"\\n\", classification_report(y_test.iloc[:, i].values, y_pred[:, i]))\\n    print(\\'Accuracy of %25s: %.2f\\' %(cat_names[i], accuracy_score(y_test.iloc[:, i].values, y_pred[:,i])))\\n    \\n'"
      ]
     },
     "execution_count": 58,
     "metadata": {},
     "output_type": "execute_result"
    }
   ],
   "source": [
    "\"\"\"\n",
    "cat_names = list(df.columns[4:])\n",
    "\n",
    "for i in range(len(cat_names)):\n",
    "    print(\"Category:\", cat_names[i],\"\\n\", classification_report(y_test.iloc[:, i].values, y_pred[:, i]))\n",
    "    print('Accuracy of %25s: %.2f' %(cat_names[i], accuracy_score(y_test.iloc[:, i].values, y_pred[:,i])))\n",
    "    \n",
    "\"\"\""
   ]
  },
  {
   "cell_type": "code",
   "execution_count": 20,
   "metadata": {},
   "outputs": [],
   "source": [
    "#X_test = pd.DataFrame(X_test)"
   ]
  },
  {
   "cell_type": "markdown",
   "metadata": {},
   "source": [
    "### 6. Improve your model\n",
    "Use grid search to find better parameters. "
   ]
  },
  {
   "cell_type": "code",
   "execution_count": 204,
   "metadata": {
    "scrolled": true
   },
   "outputs": [],
   "source": [
    "def build_model_CV():\n",
    "    pipeline = Pipeline([\n",
    "        ('vect',CountVectorizer(tokenizer=tokenize)),\n",
    "        ('tfidf', TfidfTransformer()),\n",
    "        ('clf', MultiOutputClassifier(RandomForestClassifier()))\n",
    "    ])\n",
    "\n",
    "    parameters = {\n",
    "        'clf__estimator__min_samples_split': [2, 4],\n",
    "        'clf__estimator__criterion': ['entropy', 'gini'],\n",
    "    } \n",
    "\n",
    "    cv = GridSearchCV(pipeline, parameters,n_jobs=4, verbose=2)\n",
    "    \n",
    "    return cv"
   ]
  },
  {
   "cell_type": "code",
   "execution_count": null,
   "metadata": {},
   "outputs": [],
   "source": []
  },
  {
   "cell_type": "code",
   "execution_count": 205,
   "metadata": {},
   "outputs": [
    {
     "data": {
      "text/plain": [
       "GridSearchCV(cv=None, error_score='raise',\n",
       "       estimator=Pipeline(memory=None,\n",
       "     steps=[('vect', CountVectorizer(analyzer='word', binary=False, decode_error='strict',\n",
       "        dtype=<class 'numpy.int64'>, encoding='utf-8', input='content',\n",
       "        lowercase=True, max_df=1.0, max_features=None, min_df=1,\n",
       "        ngram_range=(1, 1), preprocessor=None, stop_words=None,\n",
       "        strip...oob_score=False, random_state=None, verbose=0,\n",
       "            warm_start=False),\n",
       "           n_jobs=1))]),\n",
       "       fit_params=None, iid=True, n_jobs=1,\n",
       "       param_grid={'clf__estimator__min_samples_split': [2, 4], 'clf__estimator__criterion': ['entropy', 'gini']},\n",
       "       pre_dispatch='2*n_jobs', refit=True, return_train_score='warn',\n",
       "       scoring=None, verbose=0)"
      ]
     },
     "execution_count": 205,
     "metadata": {},
     "output_type": "execute_result"
    }
   ],
   "source": [
    "model_cv = build_model_CV()\n",
    "model_cv.fit(X_train, y_train)"
   ]
  },
  {
   "cell_type": "code",
   "execution_count": 208,
   "metadata": {},
   "outputs": [
    {
     "data": {
      "text/plain": [
       "{'clf__estimator__criterion': 'gini', 'clf__estimator__min_samples_split': 2}"
      ]
     },
     "execution_count": 208,
     "metadata": {},
     "output_type": "execute_result"
    }
   ],
   "source": [
    "model_cv.best_params_"
   ]
  },
  {
   "cell_type": "markdown",
   "metadata": {},
   "source": [
    "### 7. Test your model\n",
    "Show the accuracy, precision, and recall of the tuned model.  \n",
    "\n",
    "Since this project focuses on code quality, process, and  pipelines, there is no minimum performance metric needed to pass. However, make sure to fine tune your models for accuracy, precision and recall to make your project stand out - especially for your portfolio!"
   ]
  },
  {
   "cell_type": "code",
   "execution_count": 215,
   "metadata": {},
   "outputs": [],
   "source": [
    "#cv.fit(X_train, y_train)"
   ]
  },
  {
   "cell_type": "code",
   "execution_count": 24,
   "metadata": {},
   "outputs": [],
   "source": [
    "#y_pred_cv = cv.predict(X_test)"
   ]
  },
  {
   "cell_type": "code",
   "execution_count": 216,
   "metadata": {},
   "outputs": [],
   "source": [
    "#print(classification_report(y_test,y_pred_cv,target_names=category_names))"
   ]
  },
  {
   "cell_type": "code",
   "execution_count": 207,
   "metadata": {},
   "outputs": [
    {
     "name": "stdout",
     "output_type": "stream",
     "text": [
      "                        precision    recall  f1-score   support\n",
      "\n",
      "               related       0.82      0.93      0.87      5048\n",
      "               request       0.81      0.37      0.50      1114\n",
      "                 offer       0.00      0.00      0.00        18\n",
      "           aid_related       0.74      0.51      0.60      2722\n",
      "          medical_help       0.51      0.06      0.11       514\n",
      "      medical_products       0.64      0.09      0.16       315\n",
      "     search_and_rescue       0.50      0.02      0.04       178\n",
      "              security       1.00      0.01      0.02       109\n",
      "              military       0.81      0.07      0.12       194\n",
      "           child_alone       0.00      0.00      0.00         0\n",
      "                 water       0.82      0.11      0.20       427\n",
      "                  food       0.83      0.37      0.51       763\n",
      "               shelter       0.85      0.21      0.34       604\n",
      "              clothing       0.89      0.07      0.13       112\n",
      "                 money       0.86      0.04      0.07       158\n",
      "        missing_people       0.00      0.00      0.00        64\n",
      "              refugees       0.33      0.02      0.04       216\n",
      "                 death       0.82      0.12      0.20       267\n",
      "             other_aid       0.47      0.03      0.05       874\n",
      "infrastructure_related       0.43      0.01      0.01       421\n",
      "             transport       0.80      0.05      0.10       299\n",
      "             buildings       0.79      0.10      0.17       326\n",
      "           electricity       0.33      0.01      0.03       143\n",
      "                 tools       0.00      0.00      0.00        38\n",
      "             hospitals       0.00      0.00      0.00        69\n",
      "                 shops       0.00      0.00      0.00        34\n",
      "           aid_centers       0.00      0.00      0.00        76\n",
      "  other_infrastructure       0.20      0.00      0.01       281\n",
      "       weather_related       0.84      0.50      0.63      1870\n",
      "                floods       0.92      0.25      0.40       527\n",
      "                 storm       0.77      0.31      0.44       636\n",
      "                  fire       1.00      0.01      0.03        74\n",
      "            earthquake       0.89      0.59      0.70       639\n",
      "                  cold       1.00      0.09      0.17       118\n",
      "         other_weather       0.62      0.05      0.09       344\n",
      "         direct_report       0.76      0.30      0.43      1260\n",
      "\n",
      "           avg / total       0.75      0.44      0.50     20852\n",
      "\n"
     ]
    },
    {
     "name": "stderr",
     "output_type": "stream",
     "text": [
      "/opt/conda/lib/python3.6/site-packages/sklearn/metrics/classification.py:1135: UndefinedMetricWarning: Precision and F-score are ill-defined and being set to 0.0 in labels with no predicted samples.\n",
      "  'precision', 'predicted', average, warn_for)\n",
      "/opt/conda/lib/python3.6/site-packages/sklearn/metrics/classification.py:1137: UndefinedMetricWarning: Recall and F-score are ill-defined and being set to 0.0 in labels with no true samples.\n",
      "  'recall', 'true', average, warn_for)\n"
     ]
    }
   ],
   "source": [
    "model = model_cv\n",
    "evaluate_model(model, X_test, y_test, category_names)"
   ]
  },
  {
   "cell_type": "markdown",
   "metadata": {},
   "source": [
    "### 8. Try improving your model further. Here are a few ideas:\n",
    "* try other machine learning algorithms\n",
    "* add other features besides the TF-IDF"
   ]
  },
  {
   "cell_type": "code",
   "execution_count": 113,
   "metadata": {},
   "outputs": [],
   "source": [
    "\"\"\"\n",
    "pipeline2 = Pipeline([\n",
    "    ('features',FeatureUnion([\n",
    "    \n",
    "    ('text_pipeline',Pipeline([\n",
    "        ('vect',CountVectorizer(tokenizer=tokenize)),\n",
    "        ('tfidf', TfidfTransformer())\n",
    "      ])),\n",
    "        \n",
    "      ('best', TruncatedSVD())\n",
    "    ])),\n",
    "    \n",
    "    ('clf', MultiOutputClassifier(AdaBoostClassifier()))\n",
    "    ])\n",
    "    \n",
    "\"\"\""
   ]
  },
  {
   "cell_type": "code",
   "execution_count": 209,
   "metadata": {},
   "outputs": [],
   "source": [
    "from sklearn.tree import DecisionTreeClassifier\n",
    "pipeline2 = Pipeline([\n",
    "    ('vect', CountVectorizer()),\n",
    "    ('best', TruncatedSVD()),\n",
    "    #('starting_verb', StartingVerbExtractor()),\n",
    "    ('tfidf', TfidfTransformer()),\n",
    "    ('clf', MultiOutputClassifier(DecisionTreeClassifier()))\n",
    "])"
   ]
  },
  {
   "cell_type": "code",
   "execution_count": 69,
   "metadata": {
    "collapsed": true
   },
   "outputs": [
    {
     "data": {
      "text/plain": [
       "{'memory': None, 'steps': [('features', FeatureUnion(n_jobs=1,\n",
       "          transformer_list=[('text_pipeline', Pipeline(memory=None,\n",
       "        steps=[('vect', CountVectorizer(analyzer='word', binary=False, decode_error='strict',\n",
       "           dtype=<class 'numpy.int64'>, encoding='utf-8', input='content',\n",
       "           lowercase=True, max_df=1.0, max_features=None, min_df=1,\n",
       "           ngram_... TruncatedSVD(algorithm='randomized', n_components=2, n_iter=5,\n",
       "          random_state=None, tol=0.0))],\n",
       "          transformer_weights=None)),\n",
       "  ('clf',\n",
       "   MultiOutputClassifier(estimator=LogisticRegression(C=1.0, class_weight=None, dual=False, fit_intercept=True,\n",
       "             intercept_scaling=1, max_iter=100, multi_class='ovr', n_jobs=1,\n",
       "             penalty='l2', random_state=None, solver='liblinear', tol=0.0001,\n",
       "             verbose=0, warm_start=False),\n",
       "              n_jobs=1))], 'features': FeatureUnion(n_jobs=1,\n",
       "        transformer_list=[('text_pipeline', Pipeline(memory=None,\n",
       "      steps=[('vect', CountVectorizer(analyzer='word', binary=False, decode_error='strict',\n",
       "         dtype=<class 'numpy.int64'>, encoding='utf-8', input='content',\n",
       "         lowercase=True, max_df=1.0, max_features=None, min_df=1,\n",
       "         ngram_... TruncatedSVD(algorithm='randomized', n_components=2, n_iter=5,\n",
       "        random_state=None, tol=0.0))],\n",
       "        transformer_weights=None), 'clf': MultiOutputClassifier(estimator=LogisticRegression(C=1.0, class_weight=None, dual=False, fit_intercept=True,\n",
       "           intercept_scaling=1, max_iter=100, multi_class='ovr', n_jobs=1,\n",
       "           penalty='l2', random_state=None, solver='liblinear', tol=0.0001,\n",
       "           verbose=0, warm_start=False),\n",
       "            n_jobs=1), 'features__n_jobs': 1, 'features__transformer_list': [('text_pipeline',\n",
       "   Pipeline(memory=None,\n",
       "        steps=[('vect', CountVectorizer(analyzer='word', binary=False, decode_error='strict',\n",
       "           dtype=<class 'numpy.int64'>, encoding='utf-8', input='content',\n",
       "           lowercase=True, max_df=1.0, max_features=None, min_df=1,\n",
       "           ngram_range=(1, 1), preprocessor=None, stop_words=None,\n",
       "           strip...y=None)), ('tfidf', TfidfTransformer(norm='l2', smooth_idf=True, sublinear_tf=False, use_idf=True))])),\n",
       "  ('best', TruncatedSVD(algorithm='randomized', n_components=2, n_iter=5,\n",
       "          random_state=None, tol=0.0))], 'features__transformer_weights': None, 'features__text_pipeline': Pipeline(memory=None,\n",
       "      steps=[('vect', CountVectorizer(analyzer='word', binary=False, decode_error='strict',\n",
       "         dtype=<class 'numpy.int64'>, encoding='utf-8', input='content',\n",
       "         lowercase=True, max_df=1.0, max_features=None, min_df=1,\n",
       "         ngram_range=(1, 1), preprocessor=None, stop_words=None,\n",
       "         strip...y=None)), ('tfidf', TfidfTransformer(norm='l2', smooth_idf=True, sublinear_tf=False, use_idf=True))]), 'features__best': TruncatedSVD(algorithm='randomized', n_components=2, n_iter=5,\n",
       "        random_state=None, tol=0.0), 'features__text_pipeline__memory': None, 'features__text_pipeline__steps': [('vect',\n",
       "   CountVectorizer(analyzer='word', binary=False, decode_error='strict',\n",
       "           dtype=<class 'numpy.int64'>, encoding='utf-8', input='content',\n",
       "           lowercase=True, max_df=1.0, max_features=None, min_df=1,\n",
       "           ngram_range=(1, 1), preprocessor=None, stop_words=None,\n",
       "           strip_accents=None, token_pattern='(?u)\\\\b\\\\w\\\\w+\\\\b',\n",
       "           tokenizer=<function tokenize at 0x7fb017b7f9d8>, vocabulary=None)),\n",
       "  ('tfidf',\n",
       "   TfidfTransformer(norm='l2', smooth_idf=True, sublinear_tf=False, use_idf=True))], 'features__text_pipeline__vect': CountVectorizer(analyzer='word', binary=False, decode_error='strict',\n",
       "         dtype=<class 'numpy.int64'>, encoding='utf-8', input='content',\n",
       "         lowercase=True, max_df=1.0, max_features=None, min_df=1,\n",
       "         ngram_range=(1, 1), preprocessor=None, stop_words=None,\n",
       "         strip_accents=None, token_pattern='(?u)\\\\b\\\\w\\\\w+\\\\b',\n",
       "         tokenizer=<function tokenize at 0x7fb017b7f9d8>, vocabulary=None), 'features__text_pipeline__tfidf': TfidfTransformer(norm='l2', smooth_idf=True, sublinear_tf=False, use_idf=True), 'features__text_pipeline__vect__analyzer': 'word', 'features__text_pipeline__vect__binary': False, 'features__text_pipeline__vect__decode_error': 'strict', 'features__text_pipeline__vect__dtype': numpy.int64, 'features__text_pipeline__vect__encoding': 'utf-8', 'features__text_pipeline__vect__input': 'content', 'features__text_pipeline__vect__lowercase': True, 'features__text_pipeline__vect__max_df': 1.0, 'features__text_pipeline__vect__max_features': None, 'features__text_pipeline__vect__min_df': 1, 'features__text_pipeline__vect__ngram_range': (1,\n",
       "  1), 'features__text_pipeline__vect__preprocessor': None, 'features__text_pipeline__vect__stop_words': None, 'features__text_pipeline__vect__strip_accents': None, 'features__text_pipeline__vect__token_pattern': '(?u)\\\\b\\\\w\\\\w+\\\\b', 'features__text_pipeline__vect__tokenizer': <function __main__.tokenize(message)>, 'features__text_pipeline__vect__vocabulary': None, 'features__text_pipeline__tfidf__norm': 'l2', 'features__text_pipeline__tfidf__smooth_idf': True, 'features__text_pipeline__tfidf__sublinear_tf': False, 'features__text_pipeline__tfidf__use_idf': True, 'features__best__algorithm': 'randomized', 'features__best__n_components': 2, 'features__best__n_iter': 5, 'features__best__random_state': None, 'features__best__tol': 0.0, 'clf__estimator__C': 1.0, 'clf__estimator__class_weight': None, 'clf__estimator__dual': False, 'clf__estimator__fit_intercept': True, 'clf__estimator__intercept_scaling': 1, 'clf__estimator__max_iter': 100, 'clf__estimator__multi_class': 'ovr', 'clf__estimator__n_jobs': 1, 'clf__estimator__penalty': 'l2', 'clf__estimator__random_state': None, 'clf__estimator__solver': 'liblinear', 'clf__estimator__tol': 0.0001, 'clf__estimator__verbose': 0, 'clf__estimator__warm_start': False, 'clf__estimator': LogisticRegression(C=1.0, class_weight=None, dual=False, fit_intercept=True,\n",
       "           intercept_scaling=1, max_iter=100, multi_class='ovr', n_jobs=1,\n",
       "           penalty='l2', random_state=None, solver='liblinear', tol=0.0001,\n",
       "           verbose=0, warm_start=False), 'clf__n_jobs': 1}"
      ]
     },
     "execution_count": 69,
     "metadata": {},
     "output_type": "execute_result"
    }
   ],
   "source": [
    "pipeline2.get_params()"
   ]
  },
  {
   "cell_type": "code",
   "execution_count": 210,
   "metadata": {
    "scrolled": true
   },
   "outputs": [
    {
     "data": {
      "text/plain": [
       "Pipeline(memory=None,\n",
       "     steps=[('vect', CountVectorizer(analyzer='word', binary=False, decode_error='strict',\n",
       "        dtype=<class 'numpy.int64'>, encoding='utf-8', input='content',\n",
       "        lowercase=True, max_df=1.0, max_features=None, min_df=1,\n",
       "        ngram_range=(1, 1), preprocessor=None, stop_words=None,\n",
       "        strip...ion_leaf=0.0, presort=False, random_state=None,\n",
       "            splitter='best'),\n",
       "           n_jobs=1))])"
      ]
     },
     "execution_count": 210,
     "metadata": {},
     "output_type": "execute_result"
    }
   ],
   "source": [
    "pipeline2.fit(X_train,y_train)"
   ]
  },
  {
   "cell_type": "code",
   "execution_count": 67,
   "metadata": {
    "collapsed": true
   },
   "outputs": [
    {
     "name": "stdout",
     "output_type": "stream",
     "text": [
      "related \n",
      " 1    15051\n",
      "0     4610\n",
      "Name: related, dtype: int64 \n",
      "\n",
      "request \n",
      " 0    16282\n",
      "1     3379\n",
      "Name: request, dtype: int64 \n",
      "\n",
      "offer \n",
      " 0    19578\n",
      "1       83\n",
      "Name: offer, dtype: int64 \n",
      "\n",
      "aid_related \n",
      " 0    11471\n",
      "1     8190\n",
      "Name: aid_related, dtype: int64 \n",
      "\n",
      "medical_help \n",
      " 0    18093\n",
      "1     1568\n",
      "Name: medical_help, dtype: int64 \n",
      "\n",
      "medical_products \n",
      " 0    18646\n",
      "1     1015\n",
      "Name: medical_products, dtype: int64 \n",
      "\n",
      "search_and_rescue \n",
      " 0    19122\n",
      "1      539\n",
      "Name: search_and_rescue, dtype: int64 \n",
      "\n",
      "security \n",
      " 0    19294\n",
      "1      367\n",
      "Name: security, dtype: int64 \n",
      "\n",
      "military \n",
      " 0    19017\n",
      "1      644\n",
      "Name: military, dtype: int64 \n",
      "\n",
      "child_alone \n",
      " 0    19661\n",
      "Name: child_alone, dtype: int64 \n",
      "\n",
      "water \n",
      " 0    18376\n",
      "1     1285\n",
      "Name: water, dtype: int64 \n",
      "\n",
      "food \n",
      " 0    17430\n",
      "1     2231\n",
      "Name: food, dtype: int64 \n",
      "\n",
      "shelter \n",
      " 0    17899\n",
      "1     1762\n",
      "Name: shelter, dtype: int64 \n",
      "\n",
      "clothing \n",
      " 0    19361\n",
      "1      300\n",
      "Name: clothing, dtype: int64 \n",
      "\n",
      "money \n",
      " 0    19205\n",
      "1      456\n",
      "Name: money, dtype: int64 \n",
      "\n",
      "missing_people \n",
      " 0    19435\n",
      "1      226\n",
      "Name: missing_people, dtype: int64 \n",
      "\n",
      "refugees \n",
      " 0    19021\n",
      "1      640\n",
      "Name: refugees, dtype: int64 \n",
      "\n",
      "death \n",
      " 0    18758\n",
      "1      903\n",
      "Name: death, dtype: int64 \n",
      "\n",
      "other_aid \n",
      " 0    17060\n",
      "1     2601\n",
      "Name: other_aid, dtype: int64 \n",
      "\n",
      "infrastructure_related \n",
      " 0    18393\n",
      "1     1268\n",
      "Name: infrastructure_related, dtype: int64 \n",
      "\n",
      "transport \n",
      " 0    18759\n",
      "1      902\n",
      "Name: transport, dtype: int64 \n",
      "\n",
      "buildings \n",
      " 0    18679\n",
      "1      982\n",
      "Name: buildings, dtype: int64 \n",
      "\n",
      "electricity \n",
      " 0    19248\n",
      "1      413\n",
      "Name: electricity, dtype: int64 \n",
      "\n",
      "tools \n",
      " 0    19539\n",
      "1      122\n",
      "Name: tools, dtype: int64 \n",
      "\n",
      "hospitals \n",
      " 0    19447\n",
      "1      214\n",
      "Name: hospitals, dtype: int64 \n",
      "\n",
      "shops \n",
      " 0    19574\n",
      "1       87\n",
      "Name: shops, dtype: int64 \n",
      "\n",
      "aid_centers \n",
      " 0    19429\n",
      "1      232\n",
      "Name: aid_centers, dtype: int64 \n",
      "\n",
      "other_infrastructure \n",
      " 0    18807\n",
      "1      854\n",
      "Name: other_infrastructure, dtype: int64 \n",
      "\n",
      "weather_related \n",
      " 0    14198\n",
      "1     5463\n",
      "Name: weather_related, dtype: int64 \n",
      "\n",
      "floods \n",
      " 0    18057\n",
      "1     1604\n",
      "Name: floods, dtype: int64 \n",
      "\n",
      "storm \n",
      " 0    17847\n",
      "1     1814\n",
      "Name: storm, dtype: int64 \n",
      "\n",
      "fire \n",
      " 0    19444\n",
      "1      217\n",
      "Name: fire, dtype: int64 \n",
      "\n",
      "earthquake \n",
      " 0    17831\n",
      "1     1830\n",
      "Name: earthquake, dtype: int64 \n",
      "\n",
      "cold \n",
      " 0    19266\n",
      "1      395\n",
      "Name: cold, dtype: int64 \n",
      "\n",
      "other_weather \n",
      " 0    18648\n",
      "1     1013\n",
      "Name: other_weather, dtype: int64 \n",
      "\n",
      "direct_report \n",
      " 0    15824\n",
      "1     3837\n",
      "Name: direct_report, dtype: int64 \n",
      "\n"
     ]
    }
   ],
   "source": [
    "#This solver needs samples of at least 2 classes in the data, but the data contains only one class: 0 when I used linear svc\n",
    "#for col in y_train:\n",
    "#    print(col,'\\n',y_train[col].value_counts(),'\\n')"
   ]
  },
  {
   "cell_type": "code",
   "execution_count": null,
   "metadata": {},
   "outputs": [],
   "source": []
  },
  {
   "cell_type": "code",
   "execution_count": 211,
   "metadata": {},
   "outputs": [],
   "source": [
    "y_pred2 = pipeline2.predict(X_test)\n",
    "y_pred2 = pd.DataFrame(y_pred)"
   ]
  },
  {
   "cell_type": "code",
   "execution_count": 212,
   "metadata": {},
   "outputs": [
    {
     "name": "stdout",
     "output_type": "stream",
     "text": [
      "             precision    recall  f1-score   support\n",
      "\n",
      "          0       0.78      0.86      0.82      5048\n",
      "          1       0.16      0.07      0.10      1114\n",
      "          2       0.00      0.00      0.00        18\n",
      "          3       0.42      0.28      0.33      2722\n",
      "          4       0.09      0.01      0.01       514\n",
      "          5       0.03      0.00      0.01       315\n",
      "          6       0.11      0.01      0.01       178\n",
      "          7       0.00      0.00      0.00       109\n",
      "          8       0.05      0.01      0.01       194\n",
      "          9       0.00      0.00      0.00         0\n",
      "         10       0.08      0.02      0.03       427\n",
      "         11       0.13      0.05      0.07       763\n",
      "         12       0.10      0.02      0.04       604\n",
      "         13       0.05      0.01      0.02       112\n",
      "         14       0.17      0.01      0.01       158\n",
      "         15       0.00      0.00      0.00        64\n",
      "         16       0.00      0.00      0.00       216\n",
      "         17       0.03      0.00      0.01       267\n",
      "         18       0.11      0.01      0.01       874\n",
      "         19       0.25      0.00      0.00       421\n",
      "         20       0.03      0.00      0.01       299\n",
      "         21       0.06      0.01      0.02       326\n",
      "         22       0.00      0.00      0.00       143\n",
      "         23       0.00      0.00      0.00        38\n",
      "         24       0.00      0.00      0.00        69\n",
      "         25       0.00      0.00      0.00        34\n",
      "         26       0.00      0.00      0.00        76\n",
      "         27       0.00      0.00      0.00       281\n",
      "         28       0.28      0.17      0.22      1870\n",
      "         29       0.06      0.01      0.02       527\n",
      "         30       0.07      0.03      0.04       636\n",
      "         31       0.00      0.00      0.00        74\n",
      "         32       0.11      0.08      0.09       639\n",
      "         33       0.00      0.00      0.00       118\n",
      "         34       0.00      0.00      0.00       344\n",
      "         35       0.21      0.09      0.13      1260\n",
      "\n",
      "avg / total       0.32      0.28      0.28     20852\n",
      "\n"
     ]
    },
    {
     "name": "stderr",
     "output_type": "stream",
     "text": [
      "/opt/conda/lib/python3.6/site-packages/sklearn/metrics/classification.py:1135: UndefinedMetricWarning: Precision and F-score are ill-defined and being set to 0.0 in labels with no predicted samples.\n",
      "  'precision', 'predicted', average, warn_for)\n",
      "/opt/conda/lib/python3.6/site-packages/sklearn/metrics/classification.py:1137: UndefinedMetricWarning: Recall and F-score are ill-defined and being set to 0.0 in labels with no true samples.\n",
      "  'recall', 'true', average, warn_for)\n"
     ]
    }
   ],
   "source": [
    "print(classification_report(y_test,y_pred2))"
   ]
  },
  {
   "cell_type": "code",
   "execution_count": null,
   "metadata": {},
   "outputs": [],
   "source": [
    "#pipeline2.best_params_"
   ]
  },
  {
   "cell_type": "code",
   "execution_count": null,
   "metadata": {},
   "outputs": [],
   "source": []
  },
  {
   "cell_type": "markdown",
   "metadata": {},
   "source": [
    "### 9. Export your model as a pickle file"
   ]
  },
  {
   "cell_type": "code",
   "execution_count": null,
   "metadata": {},
   "outputs": [],
   "source": [
    "#def save_model(model, model_filepath):\n",
    "    #model_filepath = Disaster_Response.pk\n",
    "    #with open (model_filepath, 'wb') as f:\n",
    "#    pickle.dump(model, f)\n",
    "#print('Trained model is saved.')"
   ]
  },
  {
   "cell_type": "markdown",
   "metadata": {},
   "source": [
    "### 10. Use this notebook to complete `train.py`\n",
    "Use the template file attached in the Resources folder to write a script that runs the steps above to create a database and export a model based on a new dataset specified by the user."
   ]
  },
  {
   "cell_type": "code",
   "execution_count": null,
   "metadata": {},
   "outputs": [],
   "source": []
  }
 ],
 "metadata": {
  "kernelspec": {
   "display_name": "Python 3",
   "language": "python",
   "name": "python3"
  },
  "language_info": {
   "codemirror_mode": {
    "name": "ipython",
    "version": 3
   },
   "file_extension": ".py",
   "mimetype": "text/x-python",
   "name": "python",
   "nbconvert_exporter": "python",
   "pygments_lexer": "ipython3",
   "version": "3.6.3"
  }
 },
 "nbformat": 4,
 "nbformat_minor": 2
}
